{
  "nbformat": 4,
  "nbformat_minor": 0,
  "metadata": {
    "colab": {
      "provenance": [],
      "mount_file_id": "1wtWSSdix_Cef_nZ0PeTgen_D_F1obb1q",
      "authorship_tag": "ABX9TyPLhmvOY4BK4iaGw6LvVdQo",
      "include_colab_link": true
    },
    "kernelspec": {
      "name": "python3",
      "display_name": "Python 3"
    },
    "language_info": {
      "name": "python"
    }
  },
  "cells": [
    {
      "cell_type": "markdown",
      "metadata": {
        "id": "view-in-github",
        "colab_type": "text"
      },
      "source": [
        "<a href=\"https://colab.research.google.com/github/Ramit-tharu/Intelligent-system/blob/Master/Untitled2.ipynb\" target=\"_parent\"><img src=\"https://colab.research.google.com/assets/colab-badge.svg\" alt=\"Open In Colab\"/></a>"
      ]
    },
    {
      "cell_type": "code",
      "execution_count": 1,
      "metadata": {
        "colab": {
          "base_uri": "https://localhost:8080/"
        },
        "id": "j97WH7BNtMRL",
        "outputId": "c51f9368-6fd0-45de-92a6-e230bb4570ad"
      },
      "outputs": [
        {
          "output_type": "stream",
          "name": "stdout",
          "text": [
            "               Category ReviewType  \\\n",
            "0  kitchen_&_housewares   negative   \n",
            "1  kitchen_&_housewares   negative   \n",
            "2  kitchen_&_housewares   negative   \n",
            "3  kitchen_&_housewares   negative   \n",
            "4  kitchen_&_housewares   negative   \n",
            "5  kitchen_&_housewares   negative   \n",
            "6  kitchen_&_housewares   negative   \n",
            "7  kitchen_&_housewares   negative   \n",
            "8  kitchen_&_housewares   negative   \n",
            "9  kitchen_&_housewares   negative   \n",
            "\n",
            "                                              Review  \n",
            "0                                           <review>  \n",
            "1                                        <unique_id>  \n",
            "2  B0002D31QU:doesn't_keep_my_yappy_cairn_from_ba...  \n",
            "3                                       </unique_id>  \n",
            "4                                             <asin>  \n",
            "5                                         B0002D31QU  \n",
            "6                                            </asin>  \n",
            "7                                     <product_name>  \n",
            "8  Premier Gentle Spray Anti-Bark Dog Collar: Kit...  \n",
            "9                                    </product_name>  \n"
          ]
        }
      ],
      "source": [
        "from google.colab import drive\n",
        "import pandas as pd\n",
        "\n",
        "\n",
        "# Specify the path to your dataset (adjust the path based on your file's location in Google Drive)\n",
        "file_path = '/content/drive/My Drive/Datasets/Ass-3/all_reviews.csv'\n",
        "\n",
        "# Load the dataset into a Pandas DataFrame\n",
        "df = pd.read_csv(file_path)\n",
        "\n",
        "# Display the first few records\n",
        "print(df.head(10))\n"
      ]
    },
    {
      "cell_type": "code",
      "source": [
        "print(f\"The dataset has {df.shape[0]} records.\")"
      ],
      "metadata": {
        "colab": {
          "base_uri": "https://localhost:8080/"
        },
        "id": "vEdZHBqBvqb_",
        "outputId": "3a45904a-b6d1-455e-9b42-ba3971e5b2a1"
      },
      "execution_count": 2,
      "outputs": [
        {
          "output_type": "stream",
          "name": "stdout",
          "text": [
            "The dataset has 2730434 records.\n"
          ]
        }
      ]
    },
    {
      "cell_type": "markdown",
      "source": [
        "**Cleaning the Dataset for spelling and punctuation**\n"
      ],
      "metadata": {
        "id": "Pt7fKzIRwpmU"
      }
    },
    {
      "cell_type": "code",
      "source": [
        "import re\n",
        "import pandas as pd\n",
        "def clean_text(text):\n",
        "    # Converting input to string\n",
        "    text = str(text)\n",
        "    # Remove punctuation and special characters\n",
        "    text = re.sub(r'[^\\w\\s]', '', text)\n",
        "    # Remove numbers\n",
        "    text = re.sub(r'\\d+', '', text)\n",
        "    # Convert text to lowercase\n",
        "    text = text.lower()\n",
        "    # Remove extra whitespace\n",
        "    text = re.sub(r'\\s+', ' ', text).strip()\n",
        "    return text\n",
        "\n",
        "# Applying cleaning function to the 'Review' column\n",
        "df['Cleaned_Review'] = df['Review'].apply(clean_text)\n",
        "\n",
        "# Displaying the cleanded rows after cleaning\n",
        "print(\"\\nFirst 10 records after cleaning:\")\n",
        "print(df[['Review', 'Cleaned_Review']].head(10))"
      ],
      "metadata": {
        "colab": {
          "base_uri": "https://localhost:8080/"
        },
        "id": "-7fsgzZ5wvzI",
        "outputId": "d18f0935-31f8-40ff-80d0-0893cb6e0085"
      },
      "execution_count": 3,
      "outputs": [
        {
          "output_type": "stream",
          "name": "stdout",
          "text": [
            "\n",
            "First 10 records after cleaning:\n",
            "                                              Review  \\\n",
            "0                                           <review>   \n",
            "1                                        <unique_id>   \n",
            "2  B0002D31QU:doesn't_keep_my_yappy_cairn_from_ba...   \n",
            "3                                       </unique_id>   \n",
            "4                                             <asin>   \n",
            "5                                         B0002D31QU   \n",
            "6                                            </asin>   \n",
            "7                                     <product_name>   \n",
            "8  Premier Gentle Spray Anti-Bark Dog Collar: Kit...   \n",
            "9                                    </product_name>   \n",
            "\n",
            "                                      Cleaned_Review  \n",
            "0                                             review  \n",
            "1                                          unique_id  \n",
            "2  bdqudoesnt_keep_my_yappy_cairn_from_barkingd_o...  \n",
            "3                                          unique_id  \n",
            "4                                               asin  \n",
            "5                                               bdqu  \n",
            "6                                               asin  \n",
            "7                                       product_name  \n",
            "8  premier gentle spray antibark dog collar kitch...  \n",
            "9                                       product_name  \n"
          ]
        }
      ]
    },
    {
      "cell_type": "markdown",
      "source": [
        "**Encoding the Words**\n"
      ],
      "metadata": {
        "id": "QmG_cjeS2Bad"
      }
    },
    {
      "cell_type": "code",
      "source": [
        "from tensorflow.keras.preprocessing.text import Tokenizer\n",
        "from tensorflow.keras.preprocessing.sequence import pad_sequences\n",
        "\n",
        "# Choosing the parameters\n",
        "max_vocab_size = 10000 # this is the maximum number of unique words\n",
        "max_sequence_length = 100 # maximum review length after padding\n",
        "\n",
        "# Initializing the tokenizer\n",
        "tokenizer = Tokenizer(num_words=max_vocab_size, oov_token=\"<OOV>\") # OOV for out-of-vocabulary words\n",
        "\n",
        "# Fitting the tokenizer on the cleaned reviews\n",
        "tokenizer.fit_on_texts(df['Cleaned_Review'])\n",
        "\n",
        "# Converting reviews to sequences of integers\n",
        "sequences = tokenizer.texts_to_sequences(df['Cleaned_Review'])\n",
        "\n",
        "# Padding sequences to the same length\n",
        "padded_sequences = pad_sequences(sequences, maxlen=max_sequence_length, padding='post', truncating='post')\n",
        "\n",
        "# Adding the encoded reviews to the DataFrame\n",
        "df['Encoded_Review'] = list(padded_sequences)\n",
        "\n",
        "# Displaying the first few rows with encoded reviews\n",
        "print(\"\\nFirst 10 records with encoded reviews:\")\n",
        "print(df[['Cleaned_Review', 'Encoded_Review']].head(10))"
      ],
      "metadata": {
        "colab": {
          "base_uri": "https://localhost:8080/"
        },
        "id": "qpXrQ2Q12FiE",
        "outputId": "ce8a9bba-2b30-4a3e-965d-f51cc53eec63"
      },
      "execution_count": 4,
      "outputs": [
        {
          "output_type": "stream",
          "name": "stdout",
          "text": [
            "\n",
            "First 10 records with encoded reviews:\n",
            "                                      Cleaned_Review  \\\n",
            "0                                             review   \n",
            "1                                          unique_id   \n",
            "2  bdqudoesnt_keep_my_yappy_cairn_from_barkingd_o...   \n",
            "3                                          unique_id   \n",
            "4                                               asin   \n",
            "5                                               bdqu   \n",
            "6                                               asin   \n",
            "7                                       product_name   \n",
            "8  premier gentle spray antibark dog collar kitch...   \n",
            "9                                       product_name   \n",
            "\n",
            "                                      Encoded_Review  \n",
            "0  [6, 0, 0, 0, 0, 0, 0, 0, 0, 0, 0, 0, 0, 0, 0, ...  \n",
            "1  [19, 14, 0, 0, 0, 0, 0, 0, 0, 0, 0, 0, 0, 0, 0...  \n",
            "2  [1, 303, 39, 1, 1, 52, 1, 1, 0, 0, 0, 0, 0, 0,...  \n",
            "3  [19, 14, 0, 0, 0, 0, 0, 0, 0, 0, 0, 0, 0, 0, 0...  \n",
            "4  [25, 0, 0, 0, 0, 0, 0, 0, 0, 0, 0, 0, 0, 0, 0,...  \n",
            "5  [1, 0, 0, 0, 0, 0, 0, 0, 0, 0, 0, 0, 0, 0, 0, ...  \n",
            "6  [25, 0, 0, 0, 0, 0, 0, 0, 0, 0, 0, 0, 0, 0, 0,...  \n",
            "7  [5, 15, 0, 0, 0, 0, 0, 0, 0, 0, 0, 0, 0, 0, 0,...  \n",
            "8  [5791, 3485, 3465, 1, 805, 8033, 46, 50, 0, 0,...  \n",
            "9  [5, 15, 0, 0, 0, 0, 0, 0, 0, 0, 0, 0, 0, 0, 0,...  \n"
          ]
        }
      ]
    },
    {
      "cell_type": "markdown",
      "source": [
        "Encoding labels for negative and positive review"
      ],
      "metadata": {
        "id": "NRAelsil7JUb"
      }
    },
    {
      "cell_type": "code",
      "source": [
        "# Encoding the labels for 'positive' and 'negative'\n",
        "label_mapping = {'positive': 1, 'negative': 0}\n",
        "df['Encoded_label'] = df['ReviewType'].map(label_mapping)\n",
        "\n",
        "# Displaying the first few rows with encoded labels\n",
        "print(\"\\nFirst 10 records with encoded labels:\")\n",
        "print(df[['ReviewType', 'Encoded_label']].head(10))"
      ],
      "metadata": {
        "colab": {
          "base_uri": "https://localhost:8080/"
        },
        "id": "WgMCclVc7PPj",
        "outputId": "3ad49c13-af01-4472-c8de-92a9ef8fd306"
      },
      "execution_count": 14,
      "outputs": [
        {
          "output_type": "stream",
          "name": "stdout",
          "text": [
            "\n",
            "First 10 records with encoded labels:\n",
            "  ReviewType  Encoded_label\n",
            "0   negative            0.0\n",
            "1   negative            0.0\n",
            "2   negative            0.0\n",
            "3   negative            0.0\n",
            "4   negative            0.0\n",
            "5   negative            0.0\n",
            "6   negative            0.0\n",
            "7   negative            0.0\n",
            "8   negative            0.0\n",
            "9   negative            0.0\n"
          ]
        }
      ]
    },
    {
      "cell_type": "markdown",
      "source": [
        "**Outlier Removal**"
      ],
      "metadata": {
        "id": "UlscBThbByt3"
      }
    },
    {
      "cell_type": "code",
      "source": [
        "# Setting minimum length for reviews\n",
        "min_length = 10\n",
        "\n",
        "# Filtering out reviews that are too short in the dataset\n",
        "df = df[df['Cleaned_Review'].str.len() >= min_length]\n",
        "\n",
        "# Resetting the index for cleanliness after filtering\n",
        "df = df.reset_index(drop=True)\n",
        "\n",
        "# Displaying the number of records remaining and first few rows\n",
        "print(f\"Number of records after outlier removal: {df.shape[0]}\")\n",
        "print(\"\\nFirst 10 records after outlier removal:\")\n",
        "print(df[['Cleaned_Review', 'Encoded_Review']].head(10))"
      ],
      "metadata": {
        "colab": {
          "base_uri": "https://localhost:8080/"
        },
        "id": "OSCR43HTB2NL",
        "outputId": "16b0a89f-aadb-4b91-ab95-fbaa826d519f"
      },
      "execution_count": 16,
      "outputs": [
        {
          "output_type": "stream",
          "name": "stdout",
          "text": [
            "Number of records after outlier removal: 1101256\n",
            "\n",
            "First 10 records after outlier removal:\n",
            "                                      Cleaned_Review  \\\n",
            "0  bdqudoesnt_keep_my_yappy_cairn_from_barkingd_o...   \n",
            "1                                       product_name   \n",
            "2  premier gentle spray antibark dog collar kitch...   \n",
            "3                                       product_name   \n",
            "4                                       product_type   \n",
            "5                                 kitchen housewares   \n",
            "6                                       product_type   \n",
            "7            doesnt keep my yappy cairn from barking   \n",
            "8                                  reviewer_location   \n",
            "9                                  reviewer_location   \n",
            "\n",
            "                                      Encoded_Review  \n",
            "0  [1, 303, 39, 1, 1, 52, 1, 1, 0, 0, 0, 0, 0, 0,...  \n",
            "1  [5, 15, 0, 0, 0, 0, 0, 0, 0, 0, 0, 0, 0, 0, 0,...  \n",
            "2  [5791, 3485, 3465, 1, 805, 8033, 46, 50, 0, 0,...  \n",
            "3  [5, 15, 0, 0, 0, 0, 0, 0, 0, 0, 0, 0, 0, 0, 0,...  \n",
            "4  [5, 16, 0, 0, 0, 0, 0, 0, 0, 0, 0, 0, 0, 0, 0,...  \n",
            "5  [46, 50, 0, 0, 0, 0, 0, 0, 0, 0, 0, 0, 0, 0, 0...  \n",
            "6  [5, 16, 0, 0, 0, 0, 0, 0, 0, 0, 0, 0, 0, 0, 0,...  \n",
            "7  [189, 303, 39, 1, 1, 52, 8597, 0, 0, 0, 0, 0, ...  \n",
            "8  [8, 23, 0, 0, 0, 0, 0, 0, 0, 0, 0, 0, 0, 0, 0,...  \n",
            "9  [8, 23, 0, 0, 0, 0, 0, 0, 0, 0, 0, 0, 0, 0, 0,...  \n"
          ]
        }
      ]
    },
    {
      "cell_type": "markdown",
      "source": [
        "**Cleaning out empty reviews**\n"
      ],
      "metadata": {
        "id": "rjIkit8eESez"
      }
    },
    {
      "cell_type": "code",
      "source": [
        "df = df[df['Cleaned_Review'].str.strip() != '']\n",
        "df = df.dropna(subset=['Cleaned_Review'])\n",
        "df = df.reset_index(drop=True)\n"
      ],
      "metadata": {
        "id": "vszY589YEWQo"
      },
      "execution_count": 18,
      "outputs": []
    },
    {
      "cell_type": "markdown",
      "source": [
        "**Padding and Truncating the remaining Data**"
      ],
      "metadata": {
        "id": "XgKHL_FDFhhY"
      }
    },
    {
      "cell_type": "code",
      "source": [
        "# Defining the maximum length for the reviews\n",
        "max_sequence_length = 100\n",
        "\n",
        "# Assuming 'Encoded_Review' column contains the sequences to be padded\n",
        "sequences = df['Encoded_Review'].tolist()  # Extract sequences from the current DataFrame\n",
        "\n",
        "# Padding sequences to the same length\n",
        "padded_sequences = pad_sequences(sequences, maxlen=max_sequence_length, padding='post', truncating='post')\n",
        "\n",
        "# Replacing the encoded reviews column with the padded versions\n",
        "df['Padded_Encoded_Review'] = list(padded_sequences)\n",
        "\n",
        "# Displaying the first few rows with padded reviews\n",
        "print(\"\\nFirst 10 records with padded reviews:\")\n",
        "print(df[['Cleaned_Review', 'Padded_Encoded_Review']].head(10))"
      ],
      "metadata": {
        "colab": {
          "base_uri": "https://localhost:8080/"
        },
        "id": "wEbDUkhEFmy-",
        "outputId": "21b96093-851d-4558-f035-83f03ab30d8b"
      },
      "execution_count": 20,
      "outputs": [
        {
          "output_type": "stream",
          "name": "stdout",
          "text": [
            "\n",
            "First 10 records with padded reviews:\n",
            "                                      Cleaned_Review  \\\n",
            "0  bdqudoesnt_keep_my_yappy_cairn_from_barkingd_o...   \n",
            "1                                       product_name   \n",
            "2  premier gentle spray antibark dog collar kitch...   \n",
            "3                                       product_name   \n",
            "4                                       product_type   \n",
            "5                                 kitchen housewares   \n",
            "6                                       product_type   \n",
            "7            doesnt keep my yappy cairn from barking   \n",
            "8                                  reviewer_location   \n",
            "9                                  reviewer_location   \n",
            "\n",
            "                               Padded_Encoded_Review  \n",
            "0  [1, 303, 39, 1, 1, 52, 1, 1, 0, 0, 0, 0, 0, 0,...  \n",
            "1  [5, 15, 0, 0, 0, 0, 0, 0, 0, 0, 0, 0, 0, 0, 0,...  \n",
            "2  [5791, 3485, 3465, 1, 805, 8033, 46, 50, 0, 0,...  \n",
            "3  [5, 15, 0, 0, 0, 0, 0, 0, 0, 0, 0, 0, 0, 0, 0,...  \n",
            "4  [5, 16, 0, 0, 0, 0, 0, 0, 0, 0, 0, 0, 0, 0, 0,...  \n",
            "5  [46, 50, 0, 0, 0, 0, 0, 0, 0, 0, 0, 0, 0, 0, 0...  \n",
            "6  [5, 16, 0, 0, 0, 0, 0, 0, 0, 0, 0, 0, 0, 0, 0,...  \n",
            "7  [189, 303, 39, 1, 1, 52, 8597, 0, 0, 0, 0, 0, ...  \n",
            "8  [8, 23, 0, 0, 0, 0, 0, 0, 0, 0, 0, 0, 0, 0, 0,...  \n",
            "9  [8, 23, 0, 0, 0, 0, 0, 0, 0, 0, 0, 0, 0, 0, 0,...  \n"
          ]
        }
      ]
    }
  ]
}